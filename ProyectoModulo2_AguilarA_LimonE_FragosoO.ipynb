{
 "cells": [
  {
   "cell_type": "markdown",
   "metadata": {},
   "source": [
<<<<<<< Updated upstream
    "Sabemos que cada movimiento del edificio fue de $0.8$ milímetros, lo que equivale a $0.0008$ metros.\n",
    "En total se recorrieron $12$ metros, por lo que el npumero total de movimientos fue de:\n",
    "\n",
    "$$\n",
    "\\frac{12}{0.0008} = 15000\n",
    "$$"
   ]
  },
  {
   "cell_type": "markdown",
   "metadata": {},
   "source": [
    "Con esto sabemos que para que el edificio se recorriera $12$ metros se realizaron $15000$ movimientos de $0.8$ milímetros cada uno."
   ]
  },
  {
   "cell_type": "markdown",
   "metadata": {},
   "source": [
    "También sabemos que la fuerza de empuje que se requirió fue de $70$ toneladas, por lo que si esta se convierte a Newtons, se puede calcular el trabajo total requerido:\n",
    "\n",
    "$$\n",
    "W=FxD\n",
    "$$\n",
    "\n",
    "Donde __W__ es el trabajo, __F__ es la fuerza de empuje y __D__ es la distancia recorrida, por lo que al sustituir con nuestros datos tenemos:\n",
    "\n",
    "$$\n",
    "F= 70 t =686465.5N\n",
    "$$\n",
    "\n",
    "$$\n",
    "W=686465.5x12=8127751.52\n",
    "$$\n",
    "\n",
    "Por lo que sabemos que nuestro trabajo es de $8127751.52$ joules."
   ]
  },
  {
   "cell_type": "markdown",
   "metadata": {},
   "source": [
    "Otra forma con la cual se puede calcular el trabajo es mediante la integral:\n",
    "\n",
    "$$\n",
    "W=\\int_{x_0}^{x_1} {F(x)}\\text{d}x\n",
    "$$\n",
    "\n",
    "donde $x_0$ es nuestra posición inicial, $x_1$ la posición final y $F(x)$ una función..."
   ]
  },
  {
   "cell_type": "markdown",
   "metadata": {},
   "source": [
    "Se pudo haber elegido cualquier función y lo que variaría es su coeficiente constante. Para este proyecto se eligió la función cuadrática, por o que al sustituir en nuestras formulas:\n",
    "\n",
    "$$\n",
    "W=\\int_{0}^{12} {ax^2}\\text{d}x=8127751.52\n",
    "$$"
   ]
  },
  {
   "cell_type": "markdown",
   "metadata": {},
   "source": [
    "Al integrar la función y evaluarla, se tiene que:\n",
    "\n",
    "$$\n",
    "a\\frac {12^3}{3}=8127751.52\n",
    "$$\n",
    "\n",
    "Despejando nuestra constante:\n",
    "\n",
    "$$\n",
    "a=\\frac{(3)(8127751.52)}{12^3}\n",
    "$$\n",
    "\n",
    "Lo que nos da:\n",
    "\n",
    "$$\n",
    "a=14110.68\n",
    "$$"
   ]
  },
  {
   "cell_type": "markdown",
   "metadata": {},
   "source": [
    "Sustituyendo en nuestra fórmula del trabajo:\n",
    "\n",
    "$$\n",
    "W=\\int_{0}^{12} {14110.68x^2}\\text{d}x\n",
    "$$"
   ]
  },
  {
   "cell_type": "markdown",
   "metadata": {},
   "source": [
    "+ $\\int_{0}^{12} 14110.68x^{2} \\text{d}x$. \n",
=======
    "+ $\\int_{0}^{12} 14110.68x^{2} \\text{d}x$. ecuacion para Edificio de Telefonia (Matute Remus)\n",
>>>>>>> Stashed changes
    "\n",
    "---\n",
    "\n",
    "+ $\\int_{0}^{12} 4150199.918x^2\\text{d}x$. ecuacion para Burj Khalifa"
   ]
  },
  {
   "cell_type": "code",
<<<<<<< Updated upstream
   "execution_count": 1,
=======
   "execution_count": 2,
>>>>>>> Stashed changes
   "metadata": {},
   "outputs": [],
   "source": [
    "import numpy as np\n",
    "import pandas as pd\n",
    "import math "
   ]
  },
  {
   "cell_type": "code",
   "execution_count": 3,
   "metadata": {},
   "outputs": [],
   "source": [
    "fnc={'f1':lambda x: (14110.68)*x**2}"
   ]
  },
  {
   "cell_type": "code",
   "execution_count": 4,
   "metadata": {},
   "outputs": [],
   "source": [
    "def montecarlo(f,a,b,N):\n",
    "    u=np.random.uniform(a,b,N)\n",
    "    return (b-a)*np.mean(f(u))"
   ]
  },
  {
   "cell_type": "code",
   "execution_count": 5,
   "metadata": {},
   "outputs": [
    {
     "data": {
      "text/html": [
       "<div>\n",
       "<style scoped>\n",
       "    .dataframe tbody tr th:only-of-type {\n",
       "        vertical-align: middle;\n",
       "    }\n",
       "\n",
       "    .dataframe tbody tr th {\n",
       "        vertical-align: top;\n",
       "    }\n",
       "\n",
       "    .dataframe thead th {\n",
       "        text-align: right;\n",
       "    }\n",
       "</style>\n",
       "<table border=\"1\" class=\"dataframe\">\n",
       "  <thead>\n",
       "    <tr style=\"text-align: right;\">\n",
       "      <th></th>\n",
       "      <th>f1</th>\n",
       "    </tr>\n",
       "  </thead>\n",
       "  <tbody>\n",
       "    <tr>\n",
       "      <th>10</th>\n",
       "      <td>1.010684e+07</td>\n",
       "    </tr>\n",
       "    <tr>\n",
       "      <th>100</th>\n",
       "      <td>7.123588e+06</td>\n",
       "    </tr>\n",
       "    <tr>\n",
       "      <th>1000</th>\n",
       "      <td>8.334031e+06</td>\n",
       "    </tr>\n",
       "    <tr>\n",
       "      <th>10000</th>\n",
       "      <td>8.225328e+06</td>\n",
       "    </tr>\n",
       "    <tr>\n",
       "      <th>100000</th>\n",
       "      <td>8.130457e+06</td>\n",
       "    </tr>\n",
       "    <tr>\n",
       "      <th>1000000</th>\n",
       "      <td>8.130335e+06</td>\n",
       "    </tr>\n",
       "  </tbody>\n",
       "</table>\n",
       "</div>"
      ],
      "text/plain": [
       "                   f1\n",
       "10       1.010684e+07\n",
       "100      7.123588e+06\n",
       "1000     8.334031e+06\n",
       "10000    8.225328e+06\n",
       "100000   8.130457e+06\n",
       "1000000  8.130335e+06"
      ]
     },
     "execution_count": 5,
     "metadata": {},
     "output_type": "execute_result"
    }
   ],
   "source": [
    "N=np.logspace(1,6,6)\n",
    "N=N.astype(int)\n",
    "a=0\n",
    "b=12\n",
    "tabla=pd.DataFrame(index=N)\n",
    "for k,f in fnc.items():\n",
    "    for i in N:\n",
    "        tabla.loc[i,k]=montecarlo(f,a,b,i)\n",
    "tabla"
   ]
  },
  {
   "cell_type": "code",
   "execution_count": 15,
   "metadata": {
    "scrolled": true
   },
   "outputs": [
    {
     "data": {
      "text/plain": [
       "542.7306241424002"
      ]
     },
     "execution_count": 15,
     "metadata": {},
     "output_type": "execute_result"
    }
   ],
   "source": [
    "montecarlo(f,a,b,1000000)/15000"
   ]
  },
  {
   "cell_type": "code",
   "execution_count": 125,
   "metadata": {},
   "outputs": [],
   "source": [
    "fnc={'f2':lambda x: 4150199.918*x**2}"
   ]
  },
  {
   "cell_type": "code",
   "execution_count": 127,
   "metadata": {},
   "outputs": [
    {
     "data": {
      "text/html": [
       "<div>\n",
       "<style scoped>\n",
       "    .dataframe tbody tr th:only-of-type {\n",
       "        vertical-align: middle;\n",
       "    }\n",
       "\n",
       "    .dataframe tbody tr th {\n",
       "        vertical-align: top;\n",
       "    }\n",
       "\n",
       "    .dataframe thead th {\n",
       "        text-align: right;\n",
       "    }\n",
       "</style>\n",
       "<table border=\"1\" class=\"dataframe\">\n",
       "  <thead>\n",
       "    <tr style=\"text-align: right;\">\n",
       "      <th></th>\n",
       "      <th>f2</th>\n",
       "    </tr>\n",
       "  </thead>\n",
       "  <tbody>\n",
       "    <tr>\n",
       "      <th>10</th>\n",
       "      <td>2.274617e+09</td>\n",
       "    </tr>\n",
       "    <tr>\n",
       "      <th>100</th>\n",
       "      <td>2.200724e+09</td>\n",
       "    </tr>\n",
       "    <tr>\n",
       "      <th>1000</th>\n",
       "      <td>2.351101e+09</td>\n",
       "    </tr>\n",
       "    <tr>\n",
       "      <th>10000</th>\n",
       "      <td>2.397932e+09</td>\n",
       "    </tr>\n",
       "    <tr>\n",
       "      <th>100000</th>\n",
       "      <td>2.393244e+09</td>\n",
       "    </tr>\n",
       "    <tr>\n",
       "      <th>1000000</th>\n",
       "      <td>2.391552e+09</td>\n",
       "    </tr>\n",
       "  </tbody>\n",
       "</table>\n",
       "</div>"
      ],
      "text/plain": [
       "                   f2\n",
       "10       2.274617e+09\n",
       "100      2.200724e+09\n",
       "1000     2.351101e+09\n",
       "10000    2.397932e+09\n",
       "100000   2.393244e+09\n",
       "1000000  2.391552e+09"
      ]
     },
     "execution_count": 127,
     "metadata": {},
     "output_type": "execute_result"
    }
   ],
   "source": [
    "N=np.logspace(1,6,6)\n",
    "N=N.astype(int)\n",
    "a=0\n",
    "b=12\n",
    "tabla=pd.DataFrame(index=N)\n",
    "for k,f in fnc.items():\n",
    "    for i in N:\n",
    "        tabla.loc[i,k]=montecarlo(f,a,b,i)\n",
    "tabla"
   ]
  },
  {
   "cell_type": "code",
   "execution_count": 129,
   "metadata": {},
   "outputs": [
    {
     "data": {
      "text/plain": [
       "159156.9631933943"
      ]
     },
     "execution_count": 129,
     "metadata": {},
     "output_type": "execute_result"
    }
   ],
   "source": [
    "montecarlo(f,a,b,1000000)/15000"
   ]
  },
  {
   "cell_type": "code",
   "execution_count": 13,
   "metadata": {},
   "outputs": [
    {
     "data": {
      "text/html": [
       "<div>\n",
       "<style scoped>\n",
       "    .dataframe tbody tr th:only-of-type {\n",
       "        vertical-align: middle;\n",
       "    }\n",
       "\n",
       "    .dataframe tbody tr th {\n",
       "        vertical-align: top;\n",
       "    }\n",
       "\n",
       "    .dataframe thead th {\n",
       "        text-align: right;\n",
       "    }\n",
       "</style>\n",
       "<table border=\"1\" class=\"dataframe\">\n",
       "  <thead>\n",
       "    <tr style=\"text-align: right;\">\n",
       "      <th></th>\n",
       "      <th>Edificio</th>\n",
       "      <th>Numero</th>\n",
       "      <th>Fuerza de trabajo por gato</th>\n",
       "      <th>Fuerza necesaria a solo 0.8 mm</th>\n",
       "    </tr>\n",
       "  </thead>\n",
       "  <tbody>\n",
       "    <tr>\n",
       "      <th>0</th>\n",
       "      <td>Matute</td>\n",
       "      <td>12.00000</td>\n",
       "      <td>45.229167</td>\n",
       "      <td>542.75</td>\n",
       "    </tr>\n",
       "    <tr>\n",
       "      <th>1</th>\n",
       "      <td>Burj Khalifa</td>\n",
       "      <td>35179.88672</td>\n",
       "      <td>45.229167</td>\n",
       "      <td>1591156.96</td>\n",
       "    </tr>\n",
       "  </tbody>\n",
       "</table>\n",
       "</div>"
      ],
      "text/plain": [
       "       Edificio      Numero   Fuerza de trabajo por gato   \\\n",
       "0       Matute      12.00000                    45.229167   \n",
       "1  Burj Khalifa  35179.88672                    45.229167   \n",
       "\n",
       "   Fuerza necesaria a solo 0.8 mm  \n",
       "0                          542.75  \n",
       "1                      1591156.96  "
      ]
     },
     "execution_count": 13,
     "metadata": {},
     "output_type": "execute_result"
    }
   ],
   "source": [
    "datos=pd.read_csv('Datos obtenidos 2.csv')\n",
    "datos"
   ]
  }
 ],
 "metadata": {
  "kernelspec": {
   "display_name": "Python 3",
   "language": "python",
   "name": "python3"
  },
  "language_info": {
   "codemirror_mode": {
    "name": "ipython",
    "version": 3
   },
   "file_extension": ".py",
   "mimetype": "text/x-python",
   "name": "python",
   "nbconvert_exporter": "python",
   "pygments_lexer": "ipython3",
   "version": "3.8.3"
  }
 },
 "nbformat": 4,
 "nbformat_minor": 4
}
